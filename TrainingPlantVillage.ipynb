{
  "nbformat": 4,
  "nbformat_minor": 0,
  "metadata": {
    "colab": {
      "provenance": [],
      "gpuType": "T4",
      "authorship_tag": "ABX9TyPv8FVBjODrNYwRQbiOTQef",
      "include_colab_link": true
    },
    "kernelspec": {
      "name": "python3",
      "display_name": "Python 3"
    },
    "language_info": {
      "name": "python"
    },
    "accelerator": "GPU"
  },
  "cells": [
    {
      "cell_type": "markdown",
      "metadata": {
        "id": "view-in-github",
        "colab_type": "text"
      },
      "source": [
        "<a href=\"https://colab.research.google.com/github/m4m4d1/UIAI/blob/main/TrainingPlantVillage.ipynb\" target=\"_parent\"><img src=\"https://colab.research.google.com/assets/colab-badge.svg\" alt=\"Open In Colab\"/></a>"
      ]
    },
    {
      "cell_type": "code",
      "execution_count": 1,
      "metadata": {
        "colab": {
          "base_uri": "https://localhost:8080/"
        },
        "id": "IStMFMzol0dL",
        "outputId": "e65eda66-6d10-4747-ea28-e26edb813faf"
      },
      "outputs": [
        {
          "output_type": "stream",
          "name": "stdout",
          "text": [
            "Cloning into 'Backbones'...\n",
            "remote: Enumerating objects: 67, done.\u001b[K\n",
            "remote: Counting objects: 100% (67/67), done.\u001b[K\n",
            "remote: Compressing objects: 100% (65/65), done.\u001b[K\n",
            "remote: Total 67 (delta 25), reused 0 (delta 0), pack-reused 0 (from 0)\u001b[K\n",
            "Receiving objects: 100% (67/67), 30.39 KiB | 501.00 KiB/s, done.\n",
            "Resolving deltas: 100% (25/25), done.\n"
          ]
        }
      ],
      "source": [
        "!git clone https://github.com/pranavphoenix/Backbones"
      ]
    },
    {
      "cell_type": "code",
      "source": [
        "%cd Backbones"
      ],
      "metadata": {
        "id": "GueaLAYy0aD6",
        "outputId": "67595c23-b923-4404-a917-eb3b3db20c13",
        "colab": {
          "base_uri": "https://localhost:8080/"
        }
      },
      "execution_count": 2,
      "outputs": [
        {
          "output_type": "stream",
          "name": "stdout",
          "text": [
            "/content/Backbones\n"
          ]
        }
      ]
    },
    {
      "cell_type": "code",
      "source": [
        "!git config --global user.name \"m4m4d1\"\n",
        "!git config --global user.email \"m.imaduddin.ar@gmail.com\"\n"
      ],
      "metadata": {
        "id": "5SAE8a7mtNdJ"
      },
      "execution_count": null,
      "outputs": []
    },
    {
      "cell_type": "code",
      "source": [
        "!git clone https://github.com/m4m4d1/UIAI"
      ],
      "metadata": {
        "colab": {
          "base_uri": "https://localhost:8080/"
        },
        "id": "SbL1lnistib4",
        "outputId": "dc316167-d08e-4780-d31f-e5e5761e8117"
      },
      "execution_count": null,
      "outputs": [
        {
          "output_type": "stream",
          "name": "stdout",
          "text": [
            "Cloning into 'UIAI'...\n",
            "warning: You appear to have cloned an empty repository.\n"
          ]
        }
      ]
    },
    {
      "cell_type": "code",
      "source": [
        "!cp -r /content/Backbones/* ."
      ],
      "metadata": {
        "colab": {
          "base_uri": "https://localhost:8080/"
        },
        "id": "TFOa3yFOtnFy",
        "outputId": "ef0857ab-c51a-4467-dd9d-d1b355a0fc30"
      },
      "execution_count": null,
      "outputs": [
        {
          "output_type": "stream",
          "name": "stdout",
          "text": [
            "cp: cannot copy a directory, '/content/Backbones/Code', into itself, './Code'\n"
          ]
        }
      ]
    },
    {
      "cell_type": "code",
      "source": [
        "%cd ../.."
      ],
      "metadata": {
        "colab": {
          "base_uri": "https://localhost:8080/"
        },
        "id": "wRRaSfcyuaej",
        "outputId": "ab89820c-53f4-4bd5-caa7-108db9f88024"
      },
      "execution_count": null,
      "outputs": [
        {
          "output_type": "stream",
          "name": "stdout",
          "text": [
            "/\n"
          ]
        }
      ]
    },
    {
      "cell_type": "code",
      "source": [
        "!rm -rf"
      ],
      "metadata": {
        "id": "Sm-bqpA_umPY"
      },
      "execution_count": null,
      "outputs": []
    },
    {
      "cell_type": "code",
      "source": [],
      "metadata": {
        "id": "tGMqCa5nunWa"
      },
      "execution_count": null,
      "outputs": []
    },
    {
      "cell_type": "code",
      "source": [
        "%cd Backbones"
      ],
      "metadata": {
        "id": "uTp8FK81m2y4",
        "colab": {
          "base_uri": "https://localhost:8080/"
        },
        "outputId": "7bfc9287-5edc-42e1-98f6-10187748a58c"
      },
      "execution_count": null,
      "outputs": [
        {
          "output_type": "stream",
          "name": "stdout",
          "text": [
            "[Errno 2] No such file or directory: 'Backbones/Code'\n",
            "/content/Backbones\n"
          ]
        }
      ]
    },
    {
      "cell_type": "code",
      "source": [
        "%cd Code"
      ],
      "metadata": {
        "colab": {
          "base_uri": "https://localhost:8080/"
        },
        "id": "fTOvURF9okT-",
        "outputId": "d7dda696-fd69-4597-b91e-f58c85f6c482"
      },
      "execution_count": null,
      "outputs": [
        {
          "output_type": "stream",
          "name": "stdout",
          "text": [
            "/content/Backbones/Code\n"
          ]
        }
      ]
    },
    {
      "cell_type": "code",
      "source": [
        "!python plantvillage.py -model wavemix -bs 50"
      ],
      "metadata": {
        "colab": {
          "base_uri": "https://localhost:8080/"
        },
        "id": "ruq9m4S8oYrd",
        "outputId": "b111dfc0-7177-4325-d97a-b82729367428"
      },
      "execution_count": null,
      "outputs": [
        {
          "output_type": "stream",
          "name": "stdout",
          "text": [
            "Downloading: \"https://huggingface.co/cloudwalker/wavemix/resolve/main/Saved_Models_Weights/ImageNet/wavemix_192_16_75.06.pth\" to /root/.cache/torch/hub/checkpoints/wavemix_192_16_75.06.pth\n",
            "100% 107M/107M [00:01<00:00, 67.8MB/s]\n",
            "ImageNet Weights Loaded\n",
            "===============================================================================================\n",
            "Layer (type:depth-idx)                        Output Shape              Param #\n",
            "===============================================================================================\n",
            "WaveMix                                       [1, 39]                   --\n",
            "├─Sequential: 1-1                             [1, 192, 64, 64]          --\n",
            "│    └─Conv2d: 2-1                            [1, 48, 256, 256]         1,344\n",
            "│    └─Conv2d: 2-2                            [1, 96, 256, 256]         41,568\n",
            "│    └─Conv2d: 2-3                            [1, 192, 64, 64]          295,104\n",
            "│    └─GELU: 2-4                              [1, 192, 64, 64]          --\n",
            "│    └─BatchNorm2d: 2-5                       [1, 192, 64, 64]          384\n",
            "├─ModuleList: 1-2                             --                        --\n",
            "│    └─Level3Waveblock: 2-6                   [1, 192, 64, 64]          --\n",
            "│    │    └─Conv2d: 3-1                       [1, 48, 64, 64]           9,264\n",
            "│    │    └─Sequential: 3-2                   [1, 96, 16, 16]           443,232\n",
            "│    │    └─Sequential: 3-3                   [1, 96, 32, 32]           480,096\n",
            "│    │    └─Sequential: 3-4                   [1, 192, 64, 64]          775,296\n",
            "│    └─Level3Waveblock: 2-7                   [1, 192, 64, 64]          --\n",
            "│    │    └─Conv2d: 3-5                       [1, 48, 64, 64]           9,264\n",
            "│    │    └─Sequential: 3-6                   [1, 96, 16, 16]           443,232\n",
            "│    │    └─Sequential: 3-7                   [1, 96, 32, 32]           480,096\n",
            "│    │    └─Sequential: 3-8                   [1, 192, 64, 64]          775,296\n",
            "│    └─Level3Waveblock: 2-8                   [1, 192, 64, 64]          --\n",
            "│    │    └─Conv2d: 3-9                       [1, 48, 64, 64]           9,264\n",
            "│    │    └─Sequential: 3-10                  [1, 96, 16, 16]           443,232\n",
            "│    │    └─Sequential: 3-11                  [1, 96, 32, 32]           480,096\n",
            "│    │    └─Sequential: 3-12                  [1, 192, 64, 64]          775,296\n",
            "│    └─Level3Waveblock: 2-9                   [1, 192, 64, 64]          --\n",
            "│    │    └─Conv2d: 3-13                      [1, 48, 64, 64]           9,264\n",
            "│    │    └─Sequential: 3-14                  [1, 96, 16, 16]           443,232\n",
            "│    │    └─Sequential: 3-15                  [1, 96, 32, 32]           480,096\n",
            "│    │    └─Sequential: 3-16                  [1, 192, 64, 64]          775,296\n",
            "│    └─Level3Waveblock: 2-10                  [1, 192, 64, 64]          --\n",
            "│    │    └─Conv2d: 3-17                      [1, 48, 64, 64]           9,264\n",
            "│    │    └─Sequential: 3-18                  [1, 96, 16, 16]           443,232\n",
            "│    │    └─Sequential: 3-19                  [1, 96, 32, 32]           480,096\n",
            "│    │    └─Sequential: 3-20                  [1, 192, 64, 64]          775,296\n",
            "│    └─Level3Waveblock: 2-11                  [1, 192, 64, 64]          --\n",
            "│    │    └─Conv2d: 3-21                      [1, 48, 64, 64]           9,264\n",
            "│    │    └─Sequential: 3-22                  [1, 96, 16, 16]           443,232\n",
            "│    │    └─Sequential: 3-23                  [1, 96, 32, 32]           480,096\n",
            "│    │    └─Sequential: 3-24                  [1, 192, 64, 64]          775,296\n",
            "│    └─Level3Waveblock: 2-12                  [1, 192, 64, 64]          --\n",
            "│    │    └─Conv2d: 3-25                      [1, 48, 64, 64]           9,264\n",
            "│    │    └─Sequential: 3-26                  [1, 96, 16, 16]           443,232\n",
            "│    │    └─Sequential: 3-27                  [1, 96, 32, 32]           480,096\n",
            "│    │    └─Sequential: 3-28                  [1, 192, 64, 64]          775,296\n",
            "│    └─Level3Waveblock: 2-13                  [1, 192, 64, 64]          --\n",
            "│    │    └─Conv2d: 3-29                      [1, 48, 64, 64]           9,264\n",
            "│    │    └─Sequential: 3-30                  [1, 96, 16, 16]           443,232\n",
            "│    │    └─Sequential: 3-31                  [1, 96, 32, 32]           480,096\n",
            "│    │    └─Sequential: 3-32                  [1, 192, 64, 64]          775,296\n",
            "│    └─Level3Waveblock: 2-14                  [1, 192, 64, 64]          --\n",
            "│    │    └─Conv2d: 3-33                      [1, 48, 64, 64]           9,264\n",
            "│    │    └─Sequential: 3-34                  [1, 96, 16, 16]           443,232\n",
            "│    │    └─Sequential: 3-35                  [1, 96, 32, 32]           480,096\n",
            "│    │    └─Sequential: 3-36                  [1, 192, 64, 64]          775,296\n",
            "│    └─Level3Waveblock: 2-15                  [1, 192, 64, 64]          --\n",
            "│    │    └─Conv2d: 3-37                      [1, 48, 64, 64]           9,264\n",
            "│    │    └─Sequential: 3-38                  [1, 96, 16, 16]           443,232\n",
            "│    │    └─Sequential: 3-39                  [1, 96, 32, 32]           480,096\n",
            "│    │    └─Sequential: 3-40                  [1, 192, 64, 64]          775,296\n",
            "│    └─Level3Waveblock: 2-16                  [1, 192, 64, 64]          --\n",
            "│    │    └─Conv2d: 3-41                      [1, 48, 64, 64]           9,264\n",
            "│    │    └─Sequential: 3-42                  [1, 96, 16, 16]           443,232\n",
            "│    │    └─Sequential: 3-43                  [1, 96, 32, 32]           480,096\n",
            "│    │    └─Sequential: 3-44                  [1, 192, 64, 64]          775,296\n",
            "│    └─Level3Waveblock: 2-17                  [1, 192, 64, 64]          --\n",
            "│    │    └─Conv2d: 3-45                      [1, 48, 64, 64]           9,264\n",
            "│    │    └─Sequential: 3-46                  [1, 96, 16, 16]           443,232\n",
            "│    │    └─Sequential: 3-47                  [1, 96, 32, 32]           480,096\n",
            "│    │    └─Sequential: 3-48                  [1, 192, 64, 64]          775,296\n",
            "│    └─Level3Waveblock: 2-18                  [1, 192, 64, 64]          --\n",
            "│    │    └─Conv2d: 3-49                      [1, 48, 64, 64]           9,264\n",
            "│    │    └─Sequential: 3-50                  [1, 96, 16, 16]           443,232\n",
            "│    │    └─Sequential: 3-51                  [1, 96, 32, 32]           480,096\n",
            "│    │    └─Sequential: 3-52                  [1, 192, 64, 64]          775,296\n",
            "│    └─Level3Waveblock: 2-19                  [1, 192, 64, 64]          --\n",
            "│    │    └─Conv2d: 3-53                      [1, 48, 64, 64]           9,264\n",
            "│    │    └─Sequential: 3-54                  [1, 96, 16, 16]           443,232\n",
            "│    │    └─Sequential: 3-55                  [1, 96, 32, 32]           480,096\n",
            "│    │    └─Sequential: 3-56                  [1, 192, 64, 64]          775,296\n",
            "│    └─Level3Waveblock: 2-20                  [1, 192, 64, 64]          --\n",
            "│    │    └─Conv2d: 3-57                      [1, 48, 64, 64]           9,264\n",
            "│    │    └─Sequential: 3-58                  [1, 96, 16, 16]           443,232\n",
            "│    │    └─Sequential: 3-59                  [1, 96, 32, 32]           480,096\n",
            "│    │    └─Sequential: 3-60                  [1, 192, 64, 64]          775,296\n",
            "│    └─Level3Waveblock: 2-21                  [1, 192, 64, 64]          --\n",
            "│    │    └─Conv2d: 3-61                      [1, 48, 64, 64]           9,264\n",
            "│    │    └─Sequential: 3-62                  [1, 96, 16, 16]           443,232\n",
            "│    │    └─Sequential: 3-63                  [1, 96, 32, 32]           480,096\n",
            "│    │    └─Sequential: 3-64                  [1, 192, 64, 64]          775,296\n",
            "├─Sequential: 1-3                             [1, 39]                   --\n",
            "│    └─AdaptiveAvgPool2d: 2-22                [1, 192, 1, 1]            --\n",
            "│    └─Rearrange: 2-23                        [1, 192]                  --\n",
            "│    └─Linear: 2-24                           [1, 39]                   7,527\n",
            "===============================================================================================\n",
            "Total params: 27,672,135\n",
            "Trainable params: 27,672,135\n",
            "Non-trainable params: 0\n",
            "Total mult-adds (G): 53.28\n",
            "===============================================================================================\n",
            "Input size (MB): 0.79\n",
            "Forward/backward pass size (MB): 445.12\n",
            "Params size (MB): 110.69\n",
            "Estimated Total Size (MB): 556.60\n",
            "===============================================================================================\n",
            "===============================================================================================\n",
            "Layer (type:depth-idx)                        Output Shape              Param #\n",
            "===============================================================================================\n",
            "WaveMix                                       [1, 39]                   --\n",
            "├─Sequential: 1-1                             [1, 192, 64, 64]          --\n",
            "│    └─Conv2d: 2-1                            [1, 48, 256, 256]         1,344\n",
            "│    └─Conv2d: 2-2                            [1, 96, 256, 256]         41,568\n",
            "│    └─Conv2d: 2-3                            [1, 192, 64, 64]          295,104\n",
            "│    └─GELU: 2-4                              [1, 192, 64, 64]          --\n",
            "│    └─BatchNorm2d: 2-5                       [1, 192, 64, 64]          384\n",
            "├─ModuleList: 1-2                             --                        --\n",
            "│    └─Level3Waveblock: 2-6                   [1, 192, 64, 64]          --\n",
            "│    │    └─Conv2d: 3-1                       [1, 48, 64, 64]           9,264\n",
            "│    │    └─Sequential: 3-2                   [1, 96, 16, 16]           443,232\n",
            "│    │    └─Sequential: 3-3                   [1, 96, 32, 32]           480,096\n",
            "│    │    └─Sequential: 3-4                   [1, 192, 64, 64]          775,296\n",
            "│    └─Level3Waveblock: 2-7                   [1, 192, 64, 64]          --\n",
            "│    │    └─Conv2d: 3-5                       [1, 48, 64, 64]           9,264\n",
            "│    │    └─Sequential: 3-6                   [1, 96, 16, 16]           443,232\n",
            "│    │    └─Sequential: 3-7                   [1, 96, 32, 32]           480,096\n",
            "│    │    └─Sequential: 3-8                   [1, 192, 64, 64]          775,296\n",
            "│    └─Level3Waveblock: 2-8                   [1, 192, 64, 64]          --\n",
            "│    │    └─Conv2d: 3-9                       [1, 48, 64, 64]           9,264\n",
            "│    │    └─Sequential: 3-10                  [1, 96, 16, 16]           443,232\n",
            "│    │    └─Sequential: 3-11                  [1, 96, 32, 32]           480,096\n",
            "│    │    └─Sequential: 3-12                  [1, 192, 64, 64]          775,296\n",
            "│    └─Level3Waveblock: 2-9                   [1, 192, 64, 64]          --\n",
            "│    │    └─Conv2d: 3-13                      [1, 48, 64, 64]           9,264\n",
            "│    │    └─Sequential: 3-14                  [1, 96, 16, 16]           443,232\n",
            "│    │    └─Sequential: 3-15                  [1, 96, 32, 32]           480,096\n",
            "│    │    └─Sequential: 3-16                  [1, 192, 64, 64]          775,296\n",
            "│    └─Level3Waveblock: 2-10                  [1, 192, 64, 64]          --\n",
            "│    │    └─Conv2d: 3-17                      [1, 48, 64, 64]           9,264\n",
            "│    │    └─Sequential: 3-18                  [1, 96, 16, 16]           443,232\n",
            "│    │    └─Sequential: 3-19                  [1, 96, 32, 32]           480,096\n",
            "│    │    └─Sequential: 3-20                  [1, 192, 64, 64]          775,296\n",
            "│    └─Level3Waveblock: 2-11                  [1, 192, 64, 64]          --\n",
            "│    │    └─Conv2d: 3-21                      [1, 48, 64, 64]           9,264\n",
            "│    │    └─Sequential: 3-22                  [1, 96, 16, 16]           443,232\n",
            "│    │    └─Sequential: 3-23                  [1, 96, 32, 32]           480,096\n",
            "│    │    └─Sequential: 3-24                  [1, 192, 64, 64]          775,296\n",
            "│    └─Level3Waveblock: 2-12                  [1, 192, 64, 64]          --\n",
            "│    │    └─Conv2d: 3-25                      [1, 48, 64, 64]           9,264\n",
            "│    │    └─Sequential: 3-26                  [1, 96, 16, 16]           443,232\n",
            "│    │    └─Sequential: 3-27                  [1, 96, 32, 32]           480,096\n",
            "│    │    └─Sequential: 3-28                  [1, 192, 64, 64]          775,296\n",
            "│    └─Level3Waveblock: 2-13                  [1, 192, 64, 64]          --\n",
            "│    │    └─Conv2d: 3-29                      [1, 48, 64, 64]           9,264\n",
            "│    │    └─Sequential: 3-30                  [1, 96, 16, 16]           443,232\n",
            "│    │    └─Sequential: 3-31                  [1, 96, 32, 32]           480,096\n",
            "│    │    └─Sequential: 3-32                  [1, 192, 64, 64]          775,296\n",
            "│    └─Level3Waveblock: 2-14                  [1, 192, 64, 64]          --\n",
            "│    │    └─Conv2d: 3-33                      [1, 48, 64, 64]           9,264\n",
            "│    │    └─Sequential: 3-34                  [1, 96, 16, 16]           443,232\n",
            "│    │    └─Sequential: 3-35                  [1, 96, 32, 32]           480,096\n",
            "│    │    └─Sequential: 3-36                  [1, 192, 64, 64]          775,296\n",
            "│    └─Level3Waveblock: 2-15                  [1, 192, 64, 64]          --\n",
            "│    │    └─Conv2d: 3-37                      [1, 48, 64, 64]           9,264\n",
            "│    │    └─Sequential: 3-38                  [1, 96, 16, 16]           443,232\n",
            "│    │    └─Sequential: 3-39                  [1, 96, 32, 32]           480,096\n",
            "│    │    └─Sequential: 3-40                  [1, 192, 64, 64]          775,296\n",
            "│    └─Level3Waveblock: 2-16                  [1, 192, 64, 64]          --\n",
            "│    │    └─Conv2d: 3-41                      [1, 48, 64, 64]           9,264\n",
            "│    │    └─Sequential: 3-42                  [1, 96, 16, 16]           443,232\n",
            "│    │    └─Sequential: 3-43                  [1, 96, 32, 32]           480,096\n",
            "│    │    └─Sequential: 3-44                  [1, 192, 64, 64]          775,296\n",
            "│    └─Level3Waveblock: 2-17                  [1, 192, 64, 64]          --\n",
            "│    │    └─Conv2d: 3-45                      [1, 48, 64, 64]           9,264\n",
            "│    │    └─Sequential: 3-46                  [1, 96, 16, 16]           443,232\n",
            "│    │    └─Sequential: 3-47                  [1, 96, 32, 32]           480,096\n",
            "│    │    └─Sequential: 3-48                  [1, 192, 64, 64]          775,296\n",
            "│    └─Level3Waveblock: 2-18                  [1, 192, 64, 64]          --\n",
            "│    │    └─Conv2d: 3-49                      [1, 48, 64, 64]           9,264\n",
            "│    │    └─Sequential: 3-50                  [1, 96, 16, 16]           443,232\n",
            "│    │    └─Sequential: 3-51                  [1, 96, 32, 32]           480,096\n",
            "│    │    └─Sequential: 3-52                  [1, 192, 64, 64]          775,296\n",
            "│    └─Level3Waveblock: 2-19                  [1, 192, 64, 64]          --\n",
            "│    │    └─Conv2d: 3-53                      [1, 48, 64, 64]           9,264\n",
            "│    │    └─Sequential: 3-54                  [1, 96, 16, 16]           443,232\n",
            "│    │    └─Sequential: 3-55                  [1, 96, 32, 32]           480,096\n",
            "│    │    └─Sequential: 3-56                  [1, 192, 64, 64]          775,296\n",
            "│    └─Level3Waveblock: 2-20                  [1, 192, 64, 64]          --\n",
            "│    │    └─Conv2d: 3-57                      [1, 48, 64, 64]           9,264\n",
            "│    │    └─Sequential: 3-58                  [1, 96, 16, 16]           443,232\n",
            "│    │    └─Sequential: 3-59                  [1, 96, 32, 32]           480,096\n",
            "│    │    └─Sequential: 3-60                  [1, 192, 64, 64]          775,296\n",
            "│    └─Level3Waveblock: 2-21                  [1, 192, 64, 64]          --\n",
            "│    │    └─Conv2d: 3-61                      [1, 48, 64, 64]           9,264\n",
            "│    │    └─Sequential: 3-62                  [1, 96, 16, 16]           443,232\n",
            "│    │    └─Sequential: 3-63                  [1, 96, 32, 32]           480,096\n",
            "│    │    └─Sequential: 3-64                  [1, 192, 64, 64]          775,296\n",
            "├─Sequential: 1-3                             [1, 39]                   --\n",
            "│    └─AdaptiveAvgPool2d: 2-22                [1, 192, 1, 1]            --\n",
            "│    └─Rearrange: 2-23                        [1, 192]                  --\n",
            "│    └─Linear: 2-24                           [1, 39]                   7,527\n",
            "===============================================================================================\n",
            "Total params: 27,672,135\n",
            "Trainable params: 27,672,135\n",
            "Non-trainable params: 0\n",
            "Total mult-adds (G): 53.28\n",
            "===============================================================================================\n",
            "Input size (MB): 0.79\n",
            "Forward/backward pass size (MB): 445.12\n",
            "Params size (MB): 110.69\n",
            "Estimated Total Size (MB): 556.60\n",
            "===============================================================================================\n",
            "Traceback (most recent call last):\n",
            "  File \"/content/Backbones/Code/plantvillage.py\", line 134, in <module>\n",
            "    trainset = torchvision.datasets.ImageFolder(root='/workspace/train', transform=transform_train)\n",
            "  File \"/usr/local/lib/python3.10/dist-packages/torchvision/datasets/folder.py\", line 328, in __init__\n",
            "    super().__init__(\n",
            "  File \"/usr/local/lib/python3.10/dist-packages/torchvision/datasets/folder.py\", line 149, in __init__\n",
            "    classes, class_to_idx = self.find_classes(self.root)\n",
            "  File \"/usr/local/lib/python3.10/dist-packages/torchvision/datasets/folder.py\", line 234, in find_classes\n",
            "    return find_classes(directory)\n",
            "  File \"/usr/local/lib/python3.10/dist-packages/torchvision/datasets/folder.py\", line 41, in find_classes\n",
            "    classes = sorted(entry.name for entry in os.scandir(directory) if entry.is_dir())\n",
            "FileNotFoundError: [Errno 2] No such file or directory: '/workspace/train'\n"
          ]
        }
      ]
    },
    {
      "cell_type": "code",
      "source": [
        "!pip install dualopt\n",
        "!pip install wavemix\n",
        "!pip install torchinfo"
      ],
      "metadata": {
        "colab": {
          "base_uri": "https://localhost:8080/"
        },
        "id": "L6tcKNKgooTO",
        "outputId": "93fa026f-5bda-4734-bb46-b18c9748991e"
      },
      "execution_count": null,
      "outputs": [
        {
          "output_type": "stream",
          "name": "stdout",
          "text": [
            "Requirement already satisfied: dualopt in /usr/local/lib/python3.10/dist-packages (0.1.8)\n",
            "Requirement already satisfied: torch in /usr/local/lib/python3.10/dist-packages (from dualopt) (2.4.1+cu121)\n",
            "Requirement already satisfied: torchvision in /usr/local/lib/python3.10/dist-packages (from dualopt) (0.19.1+cu121)\n",
            "Requirement already satisfied: torchmetrics in /usr/local/lib/python3.10/dist-packages (from dualopt) (1.5.0)\n",
            "Requirement already satisfied: numpy in /usr/local/lib/python3.10/dist-packages (from dualopt) (1.26.4)\n",
            "Requirement already satisfied: lion-pytorch in /usr/local/lib/python3.10/dist-packages (from dualopt) (0.2.2)\n",
            "Requirement already satisfied: filelock in /usr/local/lib/python3.10/dist-packages (from torch->dualopt) (3.16.1)\n",
            "Requirement already satisfied: typing-extensions>=4.8.0 in /usr/local/lib/python3.10/dist-packages (from torch->dualopt) (4.12.2)\n",
            "Requirement already satisfied: sympy in /usr/local/lib/python3.10/dist-packages (from torch->dualopt) (1.13.3)\n",
            "Requirement already satisfied: networkx in /usr/local/lib/python3.10/dist-packages (from torch->dualopt) (3.4.1)\n",
            "Requirement already satisfied: jinja2 in /usr/local/lib/python3.10/dist-packages (from torch->dualopt) (3.1.4)\n",
            "Requirement already satisfied: fsspec in /usr/local/lib/python3.10/dist-packages (from torch->dualopt) (2024.6.1)\n",
            "Requirement already satisfied: packaging>17.1 in /usr/local/lib/python3.10/dist-packages (from torchmetrics->dualopt) (24.1)\n",
            "Requirement already satisfied: lightning-utilities>=0.8.0 in /usr/local/lib/python3.10/dist-packages (from torchmetrics->dualopt) (0.11.8)\n",
            "Requirement already satisfied: pillow!=8.3.*,>=5.3.0 in /usr/local/lib/python3.10/dist-packages (from torchvision->dualopt) (10.4.0)\n",
            "Requirement already satisfied: setuptools in /usr/local/lib/python3.10/dist-packages (from lightning-utilities>=0.8.0->torchmetrics->dualopt) (75.1.0)\n",
            "Requirement already satisfied: MarkupSafe>=2.0 in /usr/local/lib/python3.10/dist-packages (from jinja2->torch->dualopt) (3.0.1)\n",
            "Requirement already satisfied: mpmath<1.4,>=1.1.0 in /usr/local/lib/python3.10/dist-packages (from sympy->torch->dualopt) (1.3.0)\n",
            "Requirement already satisfied: wavemix in /usr/local/lib/python3.10/dist-packages (0.2.4)\n",
            "Requirement already satisfied: einops in /usr/local/lib/python3.10/dist-packages (from wavemix) (0.8.0)\n",
            "Requirement already satisfied: torch in /usr/local/lib/python3.10/dist-packages (from wavemix) (2.4.1+cu121)\n",
            "Requirement already satisfied: torchvision in /usr/local/lib/python3.10/dist-packages (from wavemix) (0.19.1+cu121)\n",
            "Requirement already satisfied: pywavelets in /usr/local/lib/python3.10/dist-packages (from wavemix) (1.7.0)\n",
            "Requirement already satisfied: numpy in /usr/local/lib/python3.10/dist-packages (from wavemix) (1.26.4)\n",
            "Requirement already satisfied: filelock in /usr/local/lib/python3.10/dist-packages (from torch->wavemix) (3.16.1)\n",
            "Requirement already satisfied: typing-extensions>=4.8.0 in /usr/local/lib/python3.10/dist-packages (from torch->wavemix) (4.12.2)\n",
            "Requirement already satisfied: sympy in /usr/local/lib/python3.10/dist-packages (from torch->wavemix) (1.13.3)\n",
            "Requirement already satisfied: networkx in /usr/local/lib/python3.10/dist-packages (from torch->wavemix) (3.4.1)\n",
            "Requirement already satisfied: jinja2 in /usr/local/lib/python3.10/dist-packages (from torch->wavemix) (3.1.4)\n",
            "Requirement already satisfied: fsspec in /usr/local/lib/python3.10/dist-packages (from torch->wavemix) (2024.6.1)\n",
            "Requirement already satisfied: pillow!=8.3.*,>=5.3.0 in /usr/local/lib/python3.10/dist-packages (from torchvision->wavemix) (10.4.0)\n",
            "Requirement already satisfied: MarkupSafe>=2.0 in /usr/local/lib/python3.10/dist-packages (from jinja2->torch->wavemix) (3.0.1)\n",
            "Requirement already satisfied: mpmath<1.4,>=1.1.0 in /usr/local/lib/python3.10/dist-packages (from sympy->torch->wavemix) (1.3.0)\n",
            "Collecting torchinfo\n",
            "  Downloading torchinfo-1.8.0-py3-none-any.whl.metadata (21 kB)\n",
            "Downloading torchinfo-1.8.0-py3-none-any.whl (23 kB)\n",
            "Installing collected packages: torchinfo\n",
            "Successfully installed torchinfo-1.8.0\n"
          ]
        }
      ]
    }
  ]
}